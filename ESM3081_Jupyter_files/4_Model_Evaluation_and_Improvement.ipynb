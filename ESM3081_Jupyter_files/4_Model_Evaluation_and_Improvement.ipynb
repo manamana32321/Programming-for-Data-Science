{
 "cells": [
  {
   "cell_type": "code",
   "execution_count": 1,
   "metadata": {},
   "outputs": [],
   "source": [
    "import warnings\n",
    "warnings.filterwarnings('ignore')\n",
    "\n",
    "import numpy as np\n",
    "np.set_printoptions(precision=5)\n",
    "\n",
    "import pandas as pd\n",
    "pd.set_option('display.precision', 5)"
   ]
  },
  {
   "cell_type": "code",
   "execution_count": 2,
   "metadata": {},
   "outputs": [],
   "source": [
    "from sklearn.datasets import load_iris\n",
    "from sklearn.model_selection import cross_validate\n",
    "from sklearn.linear_model import LogisticRegression\n",
    "\n",
    "iris = load_iris()"
   ]
  },
  {
   "cell_type": "code",
   "execution_count": 3,
   "metadata": {},
   "outputs": [],
   "source": [
    "clf = LogisticRegression()\n",
    "scores = cross_validate(clf, iris.data, iris.target, scoring='accuracy', cv=5,\n",
    "                        return_train_score=True, return_estimator=True)"
   ]
  },
  {
   "cell_type": "code",
   "execution_count": 4,
   "metadata": {},
   "outputs": [
    {
     "data": {
      "text/plain": [
       "(array([0.96667, 0.96667, 0.98333, 0.98333, 0.975  ]),\n",
       " array([0.96667, 1.     , 0.93333, 0.96667, 1.     ]))"
      ]
     },
     "execution_count": 4,
     "metadata": {},
     "output_type": "execute_result"
    }
   ],
   "source": [
    "scores['train_score'], scores['test_score']"
   ]
  },
  {
   "cell_type": "code",
   "execution_count": 5,
   "metadata": {},
   "outputs": [
    {
     "data": {
      "text/plain": [
       "[LogisticRegression(),\n",
       " LogisticRegression(),\n",
       " LogisticRegression(),\n",
       " LogisticRegression(),\n",
       " LogisticRegression()]"
      ]
     },
     "execution_count": 5,
     "metadata": {},
     "output_type": "execute_result"
    }
   ],
   "source": [
    "scores['estimator']"
   ]
  },
  {
   "cell_type": "code",
   "execution_count": 6,
   "metadata": {},
   "outputs": [],
   "source": [
    "from sklearn.datasets import load_iris\n",
    "from sklearn.model_selection import cross_validate, StratifiedKFold\n",
    "from sklearn.linear_model import LogisticRegression\n",
    "\n",
    "iris = load_iris()\n",
    "kfold = StratifiedKFold(n_splits=5, shuffle=True, random_state=1)"
   ]
  },
  {
   "cell_type": "code",
   "execution_count": 7,
   "metadata": {},
   "outputs": [],
   "source": [
    "clf = LogisticRegression()\n",
    "scores = cross_validate(clf, iris.data, iris.target, scoring='accuracy', cv=kfold,\n",
    "                        return_train_score=True, return_estimator=True)"
   ]
  },
  {
   "cell_type": "code",
   "execution_count": 8,
   "metadata": {},
   "outputs": [
    {
     "data": {
      "text/plain": [
       "(array([0.975  , 0.98333, 0.98333, 0.96667, 0.975  ]),\n",
       " array([0.96667, 1.     , 0.93333, 1.     , 0.9    ]))"
      ]
     },
     "execution_count": 8,
     "metadata": {},
     "output_type": "execute_result"
    }
   ],
   "source": [
    "scores['train_score'], scores['test_score']"
   ]
  },
  {
   "cell_type": "code",
   "execution_count": 9,
   "metadata": {},
   "outputs": [],
   "source": [
    "from sklearn.tree import DecisionTreeClassifier\n",
    "\n",
    "clf2 = DecisionTreeClassifier()\n",
    "scores2 = cross_validate(clf2, iris.data, iris.target, scoring='accuracy', cv=kfold,\n",
    "                        return_train_score=True, return_estimator=True)"
   ]
  },
  {
   "cell_type": "code",
   "execution_count": 10,
   "metadata": {},
   "outputs": [
    {
     "data": {
      "text/plain": [
       "(array([1., 1., 1., 1., 1.]),\n",
       " array([0.93333, 1.     , 0.9    , 1.     , 0.86667]))"
      ]
     },
     "execution_count": 10,
     "metadata": {},
     "output_type": "execute_result"
    }
   ],
   "source": [
    "scores2['train_score'], scores2['test_score']"
   ]
  },
  {
   "cell_type": "code",
   "execution_count": 11,
   "metadata": {},
   "outputs": [],
   "source": [
    "from sklearn.datasets import load_iris\n",
    "from sklearn.model_selection import StratifiedKFold\n",
    "from sklearn.linear_model import LogisticRegression\n",
    "from sklearn.metrics import accuracy_score\n",
    "\n",
    "iris = load_iris()\n",
    "kfold = StratifiedKFold(n_splits=5, shuffle=True, random_state=1)"
   ]
  },
  {
   "cell_type": "code",
   "execution_count": 12,
   "metadata": {},
   "outputs": [],
   "source": [
    "score_train = []\n",
    "score_test = []\n",
    "for train_idx, test_idx in kfold.split(iris.data, iris.target):\n",
    "                                       \n",
    "    X_train = iris.data[train_idx]\n",
    "    y_train = iris.target[train_idx]  \n",
    "    X_test = iris.data[test_idx]\n",
    "    y_test = iris.target[test_idx]\n",
    "    \n",
    "    clf = LogisticRegression()\n",
    "    clf.fit(X_train, y_train)\n",
    "\n",
    "    y_train_hat = clf.predict(X_train)\n",
    "    score_train.append(accuracy_score(y_train, y_train_hat))\n",
    "    y_test_hat = clf.predict(X_test)\n",
    "    score_test.append(accuracy_score(y_test, y_test_hat))"
   ]
  },
  {
   "cell_type": "code",
   "execution_count": 13,
   "metadata": {},
   "outputs": [
    {
     "data": {
      "text/plain": [
       "([0.975, 0.9833333333333333, 0.9833333333333333, 0.9666666666666667, 0.975],\n",
       " [0.9666666666666667, 1.0, 0.9333333333333333, 1.0, 0.9])"
      ]
     },
     "execution_count": 13,
     "metadata": {},
     "output_type": "execute_result"
    }
   ],
   "source": [
    "score_train, score_test"
   ]
  },
  {
   "cell_type": "code",
   "execution_count": 14,
   "metadata": {},
   "outputs": [],
   "source": [
    "from sklearn.datasets import load_iris\n",
    "from sklearn.preprocessing import StandardScaler\n",
    "from sklearn.model_selection import StratifiedKFold\n",
    "from sklearn.neural_network import MLPClassifier\n",
    "from sklearn.metrics import accuracy_score\n",
    "\n",
    "iris = load_iris()\n",
    "scaler = StandardScaler()\n",
    "kfold = StratifiedKFold(n_splits=5, shuffle=True, random_state=1)"
   ]
  },
  {
   "cell_type": "code",
   "execution_count": 15,
   "metadata": {},
   "outputs": [],
   "source": [
    "score_train = []\n",
    "score_test = []\n",
    "\n",
    "for train_idx, test_idx in kfold.split(iris.data, iris.target):\n",
    "                                       \n",
    "    X_train = iris.data[train_idx]\n",
    "    y_train = iris.target[train_idx]  \n",
    "    X_test = iris.data[test_idx]\n",
    "    y_test = iris.target[test_idx]\n",
    "    \n",
    "    scaler.fit(X_train)\n",
    "    X_train_scaled = scaler.transform(X_train)\n",
    "    X_test_scaled = scaler.transform(X_test)\n",
    "\n",
    "    clf = MLPClassifier(max_iter=1000, random_state=0)\n",
    "    clf.fit(X_train_scaled, y_train)\n",
    "\n",
    "    y_train_hat = clf.predict(X_train_scaled)\n",
    "    score_train.append(accuracy_score(y_train, y_train_hat))\n",
    "    y_test_hat = clf.predict(X_test_scaled)\n",
    "    score_test.append(accuracy_score(y_test, y_test_hat))"
   ]
  },
  {
   "cell_type": "code",
   "execution_count": 16,
   "metadata": {},
   "outputs": [
    {
     "data": {
      "text/plain": [
       "([0.9833333333333333, 0.9833333333333333, 1.0, 0.975, 0.9833333333333333],\n",
       " [0.9, 1.0, 0.9666666666666667, 1.0, 0.9])"
      ]
     },
     "execution_count": 16,
     "metadata": {},
     "output_type": "execute_result"
    }
   ],
   "source": [
    "score_train, score_test"
   ]
  },
  {
   "cell_type": "code",
   "execution_count": 17,
   "metadata": {},
   "outputs": [],
   "source": [
    "from sklearn.datasets import load_iris\n",
    "from sklearn.preprocessing import StandardScaler\n",
    "from sklearn.model_selection import train_test_split\n",
    "from sklearn.svm import SVC\n",
    "from sklearn.metrics import accuracy_score\n",
    "\n",
    "iris = load_iris()\n",
    "X_train, X_test, y_train, y_test = train_test_split(\n",
    "    iris.data, iris.target, random_state=0)\n",
    "scaler = StandardScaler()\n",
    "scaler.fit(X_train)\n",
    "X_train_scaled = scaler.transform(X_train)\n",
    "X_test_scaled = scaler.transform(X_test)"
   ]
  },
  {
   "cell_type": "code",
   "execution_count": 18,
   "metadata": {},
   "outputs": [
    {
     "name": "stdout",
     "output_type": "stream",
     "text": [
      "Best score: 0.97368\n",
      "Best hyperparameters: {'C': 100, 'gamma': 0.001}\n"
     ]
    }
   ],
   "source": [
    "best_score = 0\n",
    "for gamma in [0.001, 0.01, 0.1, 1, 10, 100]:\n",
    "    for C in [0.001, 0.01, 0.1, 1, 10, 100]:\n",
    "        \n",
    "        clf = SVC(gamma=gamma, C=C)\n",
    "        clf.fit(X_train_scaled, y_train)\n",
    "\n",
    "        y_test_hat = clf.predict(X_test_scaled)\n",
    "        score = accuracy_score(y_test, y_test_hat)\n",
    "        \n",
    "        if score > best_score:\n",
    "            best_score = score\n",
    "            best_hyperparameters = {'C': C, 'gamma': gamma}\n",
    "            \n",
    "print('Best score: {:.5f}'.format(best_score))\n",
    "print('Best hyperparameters: {}'.format(best_hyperparameters))"
   ]
  },
  {
   "cell_type": "code",
   "execution_count": 19,
   "metadata": {},
   "outputs": [
    {
     "name": "stdout",
     "output_type": "stream",
     "text": [
      "Size of training set: 84 size of validation set: 28 size of test set: 38\n",
      "\n"
     ]
    }
   ],
   "source": [
    "from sklearn.datasets import load_iris\n",
    "from sklearn.preprocessing import StandardScaler\n",
    "from sklearn.model_selection import train_test_split\n",
    "from sklearn.svm import SVC\n",
    "from sklearn.metrics import accuracy_score\n",
    "\n",
    "iris = load_iris()\n",
    "X_trainval, X_test, y_trainval, y_test = train_test_split(\n",
    "    iris.data, iris.target, test_size=0.25, random_state=0)\n",
    "X_train, X_valid, y_train, y_valid = train_test_split(\n",
    "    X_trainval, y_trainval, test_size=0.25, random_state=1)\n",
    "\n",
    "print('Size of training set: {} size of validation set: {} size of test set:'\n",
    "      ' {}\\n'.format(X_train.shape[0], X_valid.shape[0], X_test.shape[0]))"
   ]
  },
  {
   "cell_type": "code",
   "execution_count": 20,
   "metadata": {},
   "outputs": [],
   "source": [
    "scaler = StandardScaler()\n",
    "scaler.fit(X_train)\n",
    "X_train_scaled = scaler.transform(X_train)\n",
    "X_valid_scaled = scaler.transform(X_valid)"
   ]
  },
  {
   "cell_type": "code",
   "execution_count": 21,
   "metadata": {},
   "outputs": [
    {
     "name": "stdout",
     "output_type": "stream",
     "text": [
      "Best score on validation set: 0.92857\n",
      "Best hyperparameters: {'C': 100, 'gamma': 0.001}\n"
     ]
    }
   ],
   "source": [
    "best_score = 0\n",
    "for gamma in [0.001, 0.01, 0.1, 1, 10, 100]:\n",
    "    for C in [0.001, 0.01, 0.1, 1, 10, 100]:\n",
    "        clf = SVC(gamma=gamma, C=C)\n",
    "        clf.fit(X_train_scaled, y_train)\n",
    "\n",
    "        y_valid_hat = clf.predict(X_valid_scaled)\n",
    "        score = accuracy_score(y_valid, y_valid_hat)\n",
    "        \n",
    "        if score > best_score:\n",
    "            best_score = score\n",
    "            best_hyperparameters = {'C': C, 'gamma': gamma}\n",
    "            \n",
    "print('Best score on validation set: {:.5f}'.format(best_score))\n",
    "print('Best hyperparameters: {}'.format(best_hyperparameters))"
   ]
  },
  {
   "cell_type": "code",
   "execution_count": 22,
   "metadata": {},
   "outputs": [
    {
     "name": "stdout",
     "output_type": "stream",
     "text": [
      "Test set score with best hyperparameters: 0.97368\n"
     ]
    }
   ],
   "source": [
    "scaler.fit(X_trainval)\n",
    "X_trainval_scaled = scaler.transform(X_trainval)\n",
    "X_test_scaled = scaler.transform(X_test)\n",
    "\n",
    "clf = SVC(**best_hyperparameters)\n",
    "clf.fit(X_trainval_scaled, y_trainval)\n",
    "\n",
    "y_test_hat = clf.predict(X_test_scaled)\n",
    "test_score = accuracy_score(y_test, y_test_hat)\n",
    "print('Test set score with best hyperparameters: {:.5f}'.format(test_score))"
   ]
  },
  {
   "cell_type": "code",
   "execution_count": 23,
   "metadata": {},
   "outputs": [],
   "source": [
    "from sklearn.datasets import load_iris\n",
    "from sklearn.preprocessing import StandardScaler\n",
    "from sklearn.model_selection import train_test_split, StratifiedKFold, GridSearchCV\n",
    "from sklearn.svm import SVC\n",
    "from sklearn.metrics import accuracy_score\n",
    "\n",
    "iris = load_iris()\n",
    "X_trainval, X_test, y_trainval, y_test = train_test_split(\n",
    "    iris.data, iris.target, test_size=0.25, random_state=0)\n",
    "\n",
    "scaler = StandardScaler()\n",
    "scaler.fit(X_trainval)\n",
    "X_trainval_scaled = scaler.transform(X_trainval)\n",
    "X_test_scaled = scaler.transform(X_test)"
   ]
  },
  {
   "cell_type": "code",
   "execution_count": 24,
   "metadata": {},
   "outputs": [
    {
     "name": "stdout",
     "output_type": "stream",
     "text": [
      "Best score on validation set: 0.97312\n",
      "Best hyperparameters: {'C': 10, 'gamma': 0.1}\n"
     ]
    }
   ],
   "source": [
    "kfold = StratifiedKFold(n_splits=5, shuffle=True, random_state=2)\n",
    "hyperparam_grid = {'C': [0.001, 0.01, 0.1, 1, 10, 100],\n",
    "                   'gamma': [0.001, 0.01, 0.1, 1, 10, 100]}\n",
    "grid_search = GridSearchCV(SVC(), hyperparam_grid, scoring='accuracy', refit=True, cv=kfold)\n",
    "grid_search.fit(X_trainval_scaled, y_trainval)\n",
    "\n",
    "print('Best score on validation set: {:.5f}'.format(grid_search.best_score_))\n",
    "print('Best hyperparameters: {}'.format(grid_search.best_params_))"
   ]
  },
  {
   "cell_type": "code",
   "execution_count": 25,
   "metadata": {},
   "outputs": [
    {
     "name": "stdout",
     "output_type": "stream",
     "text": [
      "Test set score with best hyperparameters: 0.97368\n"
     ]
    }
   ],
   "source": [
    "y_test_hat = grid_search.predict(X_test_scaled)\n",
    "test_score = accuracy_score(y_test, y_test_hat)\n",
    "print('Test set score with best hyperparameters: {:.5f}'.format(test_score))"
   ]
  },
  {
   "cell_type": "code",
   "execution_count": 26,
   "metadata": {},
   "outputs": [],
   "source": [
    "from sklearn.datasets import load_iris\n",
    "from sklearn.preprocessing import StandardScaler\n",
    "from sklearn.model_selection import train_test_split, cross_validate, StratifiedKFold\n",
    "from sklearn.svm import SVC\n",
    "from sklearn.metrics import accuracy_score\n",
    "\n",
    "iris = load_iris()\n",
    "X_trainval, X_test, y_trainval, y_test = train_test_split(\n",
    "    iris.data, iris.target, test_size=0.25, random_state=0)\n",
    "\n",
    "scaler = StandardScaler()\n",
    "scaler.fit(X_trainval)\n",
    "X_trainval_scaled = scaler.transform(X_trainval)\n",
    "X_test_scaled = scaler.transform(X_test)"
   ]
  },
  {
   "cell_type": "code",
   "execution_count": 27,
   "metadata": {},
   "outputs": [
    {
     "name": "stdout",
     "output_type": "stream",
     "text": [
      "Best score on validation set: 0.97312\n",
      "Best hyperparameters: {'C': 100, 'gamma': 0.01}\n"
     ]
    }
   ],
   "source": [
    "kfold = StratifiedKFold(n_splits=5, shuffle=True, random_state=2)\n",
    "best_score = 0\n",
    "for gamma in [0.001, 0.01, 0.1, 1, 10, 100]:\n",
    "    for C in [0.001, 0.01, 0.1, 1, 10, 100]:\n",
    "        \n",
    "        clf = SVC(gamma=gamma, C=C)\n",
    "        scores = cross_validate(clf, X_trainval_scaled, y_trainval, scoring='accuracy', cv=kfold,\n",
    "                                return_train_score=True)\n",
    "        score = scores['test_score'].mean()\n",
    "\n",
    "        if score > best_score:\n",
    "            best_score = score\n",
    "            best_hyperparameters = {'C': C, 'gamma': gamma}\n",
    "\n",
    "print('Best score on validation set: {:.5f}'.format(best_score))\n",
    "print('Best hyperparameters: {}'.format(best_hyperparameters))"
   ]
  },
  {
   "cell_type": "code",
   "execution_count": 28,
   "metadata": {},
   "outputs": [
    {
     "name": "stdout",
     "output_type": "stream",
     "text": [
      "Test set score with best hyperparameters: 0.97368\n"
     ]
    }
   ],
   "source": [
    "clf = SVC(**best_hyperparameters)\n",
    "clf.fit(X_trainval_scaled, y_trainval)\n",
    "\n",
    "y_test_hat = clf.predict(X_test_scaled)\n",
    "test_score = accuracy_score(y_test, y_test_hat)\n",
    "print('Test set score with best hyperparameters: {:.5f}'.format(test_score))"
   ]
  },
  {
   "cell_type": "code",
   "execution_count": 29,
   "metadata": {},
   "outputs": [
    {
     "name": "stdout",
     "output_type": "stream",
     "text": [
      "Best score on validation set: 0.97312\n",
      "Best hyperparameters: {'C': 100, 'gamma': 0.01}\n"
     ]
    }
   ],
   "source": [
    "kfold = StratifiedKFold(n_splits=5, shuffle=True, random_state=2)\n",
    "best_score = 0\n",
    "for gamma in [0.001, 0.01, 0.1, 1, 10, 100]:\n",
    "    for C in [0.001, 0.01, 0.1, 1, 10, 100]:\n",
    "        \n",
    "        clf = SVC(gamma=gamma, C=C)\n",
    "        scores = cross_validate(clf, X_trainval_scaled, y_trainval, scoring='accuracy', cv=kfold,\n",
    "                                return_train_score=True, return_estimator=True)\n",
    "        score = scores['test_score'].mean()\n",
    "\n",
    "        if score > best_score:\n",
    "            best_score = score\n",
    "            best_models = scores['estimator']\n",
    "            best_hyperparameters = {'C': C, 'gamma': gamma}\n",
    "\n",
    "print('Best score on validation set: {:.5f}'.format(best_score))\n",
    "print('Best hyperparameters: {}'.format(best_hyperparameters))"
   ]
  },
  {
   "cell_type": "code",
   "execution_count": 30,
   "metadata": {},
   "outputs": [
    {
     "name": "stdout",
     "output_type": "stream",
     "text": [
      "Test set score with best hyperparameters: 0.97368\n"
     ]
    }
   ],
   "source": [
    "from scipy.stats import mode\n",
    "\n",
    "y_test_hats = []\n",
    "for baseclf in best_models:\n",
    "    y_test_hats.append(baseclf.predict(X_test_scaled))\n",
    "\n",
    "y_test_hat = mode(y_test_hats, axis=0)[0]\n",
    "test_score = accuracy_score(y_test, y_test_hat)\n",
    "print('Test set score with best hyperparameters: {:.5f}'.format(test_score))"
   ]
  },
  {
   "cell_type": "code",
   "execution_count": 31,
   "metadata": {},
   "outputs": [
    {
     "name": "stdout",
     "output_type": "stream",
     "text": [
      "Test set score with best hyperparameters: 0.97368\n"
     ]
    }
   ],
   "source": [
    "classes = best_models[0].classes_\n",
    "\n",
    "y_test_hats = []\n",
    "for baseclf in best_models:\n",
    "    y_test_hats.append(baseclf.decision_function(X_test_scaled))\n",
    "\n",
    "y_test_hat = classes[np.argmax(np.mean(y_test_hats, axis=0), axis=1)]\n",
    "test_score = accuracy_score(y_test, y_test_hat)\n",
    "print('Test set score with best hyperparameters: {:.5f}'.format(test_score))"
   ]
  },
  {
   "cell_type": "code",
   "execution_count": 32,
   "metadata": {},
   "outputs": [],
   "source": [
    "from sklearn.datasets import load_iris\n",
    "from sklearn.model_selection import StratifiedKFold, GridSearchCV\n",
    "from sklearn.svm import SVC\n",
    "\n",
    "iris = load_iris()"
   ]
  },
  {
   "cell_type": "code",
   "execution_count": 33,
   "metadata": {},
   "outputs": [
    {
     "name": "stdout",
     "output_type": "stream",
     "text": [
      "Outer cross-validation score: 0.96667\n"
     ]
    }
   ],
   "source": [
    "hyperparam_grid = [{'kernel': ['rbf'],\n",
    "                    'C': [0.001, 0.01, 0.1, 1, 10, 100],\n",
    "                    'gamma': [0.001, 0.01, 0.1, 1, 10, 100]},\n",
    "                   {'kernel': ['linear'],\n",
    "                    'C': [0.001, 0.01, 0.1, 1, 10, 100]}]\n",
    "\n",
    "inner_kfold = StratifiedKFold(n_splits=5, shuffle=True, random_state=2)\n",
    "outer_kfold = StratifiedKFold(n_splits=5, shuffle=True, random_state=2)\n",
    "grid_search = GridSearchCV(SVC(), hyperparam_grid, scoring='accuracy', refit=True, cv=inner_kfold)\n",
    "scores = cross_validate(grid_search, iris.data, iris.target, scoring='accuracy', cv=outer_kfold,\n",
    "                        return_train_score=True, return_estimator=True)\n",
    "\n",
    "print('Outer cross-validation score: %.5f'%scores['test_score'].mean())"
   ]
  },
  {
   "cell_type": "code",
   "execution_count": 34,
   "metadata": {},
   "outputs": [
    {
     "name": "stdout",
     "output_type": "stream",
     "text": [
      "Outer cross-validation score: 0.94667\n"
     ]
    }
   ],
   "source": [
    "from sklearn.preprocessing import StandardScaler\n",
    "\n",
    "hyperparam_grid = [{'kernel': ['rbf'],\n",
    "                    'C': [0.001, 0.01, 0.1, 1, 10, 100],\n",
    "                    'gamma': [0.001, 0.01, 0.1, 1, 10, 100]},\n",
    "                   {'kernel': ['linear'],\n",
    "                    'C': [0.001, 0.01, 0.1, 1, 10, 100]}]\n",
    "\n",
    "inner_kfold = StratifiedKFold(n_splits=5, shuffle=True, random_state=2)\n",
    "outer_kfold = StratifiedKFold(n_splits=5, shuffle=True, random_state=2)\n",
    "\n",
    "scaler = StandardScaler()\n",
    "score_test = []\n",
    "for trainval_idx, test_idx in outer_kfold.split(iris.data, iris.target):\n",
    "                                       \n",
    "    X_trainval = iris.data[trainval_idx]\n",
    "    y_trainval = iris.target[trainval_idx]  \n",
    "    X_test = iris.data[test_idx]\n",
    "    y_test = iris.target[test_idx]\n",
    "    \n",
    "    scaler.fit(X_trainval)\n",
    "    X_trainval_scaled = scaler.transform(X_trainval)\n",
    "    X_test_scaled = scaler.transform(X_test)\n",
    "    \n",
    "    grid_search = GridSearchCV(SVC(), hyperparam_grid, scoring='accuracy', refit=True, cv=inner_kfold)\n",
    "    grid_search.fit(X_trainval_scaled, y_trainval)\n",
    "\n",
    "    y_test_hat = grid_search.predict(X_test_scaled)\n",
    "    score_test.append(accuracy_score(y_test, y_test_hat))\n",
    "\n",
    "print('Outer cross-validation score: %.5f'%np.mean(score_test))"
   ]
  },
  {
   "cell_type": "code",
   "execution_count": null,
   "metadata": {},
   "outputs": [],
   "source": []
  }
 ],
 "metadata": {
  "kernelspec": {
   "display_name": "Python 3 (ipykernel)",
   "language": "python",
   "name": "python3"
  },
  "language_info": {
   "codemirror_mode": {
    "name": "ipython",
    "version": 3
   },
   "file_extension": ".py",
   "mimetype": "text/x-python",
   "name": "python",
   "nbconvert_exporter": "python",
   "pygments_lexer": "ipython3",
   "version": "3.12.4"
  }
 },
 "nbformat": 4,
 "nbformat_minor": 4
}
