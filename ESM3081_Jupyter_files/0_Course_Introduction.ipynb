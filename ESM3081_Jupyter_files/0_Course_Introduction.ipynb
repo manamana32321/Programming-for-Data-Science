{
 "cells": [
  {
   "cell_type": "code",
   "execution_count": 1,
   "metadata": {},
   "outputs": [
    {
     "name": "stdout",
     "output_type": "stream",
     "text": [
      "Python version: 3.12.4 | packaged by Anaconda, Inc. | (main, Jun 18 2024, 15:03:56) [MSC v.1929 64 bit (AMD64)]\n",
      "pandas version: 2.2.2\n",
      "matplotlib version: 3.8.4\n",
      "NumPy version: 1.26.4\n",
      "SciPy version: 1.13.1\n",
      "IPython version: 8.25.0\n",
      "scikit-learn version: 1.4.2\n"
     ]
    }
   ],
   "source": [
    "import sys\n",
    "print(\"Python version:\", sys.version)\n",
    "import pandas as pd\n",
    "print(\"pandas version:\", pd.__version__)\n",
    "import matplotlib\n",
    "print(\"matplotlib version:\", matplotlib.__version__)\n",
    "import numpy as np\n",
    "print(\"NumPy version:\", np.__version__)\n",
    "import scipy as sp\n",
    "print(\"SciPy version:\", sp.__version__)\n",
    "import IPython\n",
    "print(\"IPython version:\", IPython.__version__)\n",
    "import sklearn\n",
    "print(\"scikit-learn version:\", sklearn.__version__)"
   ]
  },
  {
   "cell_type": "code",
   "execution_count": null,
   "metadata": {},
   "outputs": [],
   "source": []
  }
 ],
 "metadata": {
  "kernelspec": {
   "display_name": "Python 3 (ipykernel)",
   "language": "python",
   "name": "python3"
  },
  "language_info": {
   "codemirror_mode": {
    "name": "ipython",
    "version": 3
   },
   "file_extension": ".py",
   "mimetype": "text/x-python",
   "name": "python",
   "nbconvert_exporter": "python",
   "pygments_lexer": "ipython3",
   "version": "3.12.4"
  }
 },
 "nbformat": 4,
 "nbformat_minor": 4
}
